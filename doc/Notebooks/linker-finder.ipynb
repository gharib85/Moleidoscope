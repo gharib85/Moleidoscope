{
 "cells": [
  {
   "cell_type": "code",
   "execution_count": null,
   "metadata": {
    "collapsed": false
   },
   "outputs": [],
   "source": [
    "import os\n",
    "import numpy as np\n",
    "from hostdesigner.host import Host\n",
    "from hostdesigner.run import hd_run, initialize\n",
    "from hostdesigner.hdo import Hdo\n",
    "from hostdesigner.output import read_hdo, find_results\n",
    "from hostdesigner.template import overlay_template\n",
    "from moleidoscope.linker import Linker\n",
    "from moleidoscope.visualize import show\n",
    "from moleidoscope.geo.vector import find_closest"
   ]
  },
  {
   "cell_type": "markdown",
   "metadata": {
    "collapsed": false
   },
   "source": [
    "#### Generate overlay template"
   ]
  },
  {
   "cell_type": "code",
   "execution_count": null,
   "metadata": {
    "collapsed": false
   },
   "outputs": [],
   "source": [
    "linker_length = 5 # Length of linker (Angstroms)\n",
    "linker_finder = overlay_template(linker_length, bond_dist=1.2)"
   ]
  },
  {
   "cell_type": "markdown",
   "metadata": {},
   "source": [
    "#### Initialize run"
   ]
  },
  {
   "cell_type": "code",
   "execution_count": null,
   "metadata": {
    "collapsed": false
   },
   "outputs": [],
   "source": [
    "run_dir = os.path.join(os.getcwd(), 'over-d%i' % int(linker_length))\n",
    "initialize(run_dir, linker_finder, run_type='OVERLAY')"
   ]
  },
  {
   "cell_type": "markdown",
   "metadata": {},
   "source": [
    "#### Run HostDesigner"
   ]
  },
  {
   "cell_type": "code",
   "execution_count": null,
   "metadata": {
    "collapsed": false
   },
   "outputs": [],
   "source": [
    "hd_run(run_dir, verbose=True)"
   ]
  },
  {
   "cell_type": "markdown",
   "metadata": {},
   "source": [
    "#### Visualize results"
   ]
  },
  {
   "cell_type": "code",
   "execution_count": null,
   "metadata": {
    "collapsed": false
   },
   "outputs": [],
   "source": [
    "results = find_results(run_dir)\n",
    "hdo1 = read_hdo(results['hdo'][1]) # out_1.hdo -> sorted by RMSD\n",
    "hdo2 = read_hdo(results['hdo'][0]) # out_2.hdo -> sorted by energy\n",
    "hdo1.show(8, start=0, div=4, distance=(20, 20))"
   ]
  },
  {
   "cell_type": "markdown",
   "metadata": {},
   "source": [
    "#### Sort linkers according to number of atoms"
   ]
  },
  {
   "cell_type": "code",
   "execution_count": null,
   "metadata": {
    "collapsed": false
   },
   "outputs": [],
   "source": [
    "hdo2 = hdo1.sort(var='n_atoms', table=False)\n",
    "hdo2.show(8, start=0, div=4, distance=(20, 20))"
   ]
  },
  {
   "cell_type": "markdown",
   "metadata": {
    "collapsed": false
   },
   "source": [
    "#### Choose a linker"
   ]
  },
  {
   "cell_type": "code",
   "execution_count": null,
   "metadata": {
    "collapsed": false
   },
   "outputs": [],
   "source": [
    "linker = Host()\n",
    "linker.read_hdo(hdo1.structures, idx=4)\n",
    "linker.remove_atoms(['O'])\n",
    "show(linker)"
   ]
  },
  {
   "cell_type": "markdown",
   "metadata": {
    "collapsed": false
   },
   "source": [
    "#### Add extra linker information"
   ]
  },
  {
   "cell_type": "code",
   "execution_count": null,
   "metadata": {
    "collapsed": false
   },
   "outputs": [],
   "source": [
    "connection_indices = [i for i, atom in enumerate(linker.atom_names) if atom == 'N']\n",
    "idx1, idx2 = connection_indices\n",
    "n1 = np.array(linker.atom_coors[idx1])\n",
    "n2 = np.array(linker.atom_coors[idx2])\n",
    "linker.remove_atoms(['N'])\n",
    "\n",
    "c1 = np.array(find_closest(n1, linker.atom_coors))\n",
    "c2 = np.array(find_closest(n2, linker.atom_coors))\n",
    "\n",
    "link = Linker()\n",
    "link.connections = [c1, c2]\n",
    "link.vector = c2 - c1\n",
    "link.length = np.linalg.norm(link.vector)\n",
    "link.read_host(linker)\n",
    "\n",
    "show(link)"
   ]
  },
  {
   "cell_type": "code",
   "execution_count": null,
   "metadata": {
    "collapsed": false
   },
   "outputs": [],
   "source": [
    "link.save()"
   ]
  },
  {
   "cell_type": "code",
   "execution_count": null,
   "metadata": {
    "collapsed": true
   },
   "outputs": [],
   "source": []
  }
 ],
 "metadata": {
  "kernelspec": {
   "display_name": "Python 3",
   "language": "python",
   "name": "python3"
  },
  "language_info": {
   "codemirror_mode": {
    "name": "ipython",
    "version": 3
   },
   "file_extension": ".py",
   "mimetype": "text/x-python",
   "name": "python",
   "nbconvert_exporter": "python",
   "pygments_lexer": "ipython3",
   "version": "3.5.2"
  }
 },
 "nbformat": 4,
 "nbformat_minor": 0
}
